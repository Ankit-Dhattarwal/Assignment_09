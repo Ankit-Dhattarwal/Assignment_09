{
 "cells": [
  {
   "cell_type": "markdown",
   "id": "8f893085-26f9-42dd-b968-0c7e2e815dd5",
   "metadata": {},
   "source": [
    "### Q.1> Create a vehicle class with an init method having instance variables as name_of_vehicle, max_speed and average_of_vehicle."
   ]
  },
  {
   "cell_type": "markdown",
   "id": "52bbc475-2638-4ca4-94ba-bfc233edb910",
   "metadata": {},
   "source": [
    "#### ANSWER"
   ]
  },
  {
   "cell_type": "code",
   "execution_count": 1,
   "id": "cf31fc12-649f-46ac-9fb3-a92e23c59939",
   "metadata": {},
   "outputs": [],
   "source": [
    "class Vehicle:\n",
    "    def __init__(self, name_of_vehicle, max_speed, average_of_vehicle):\n",
    "        self.name_of_vehicle = name_of_vehicle\n",
    "        self.max_speed = max_speed\n",
    "        self.average_of_vehicle = average_of_vehicle\n"
   ]
  },
  {
   "cell_type": "code",
   "execution_count": 2,
   "id": "a96cafda-b4a6-4f7f-ae83-c856c5786001",
   "metadata": {},
   "outputs": [],
   "source": [
    "my_vehicle = Vehicle(\"My Car\", 200, 8.5)\n"
   ]
  },
  {
   "cell_type": "markdown",
   "id": "63a8d71d-5b79-4293-8ef9-6071b24d3b2c",
   "metadata": {},
   "source": [
    "print(my_vehicle.name_of_vehicle) \n",
    "print(my_vehicle.max_speed) \n",
    "print(my_vehicle.average_of_vehicle) \n"
   ]
  },
  {
   "cell_type": "markdown",
   "id": "393382fa-3973-41da-9457-1620f21821c5",
   "metadata": {},
   "source": [
    "### Q.2> Create a child class car from the vehicle class created in Que 1, which will inherit the vehicle class. Create a method named seating_capacity which takes capacity as an argument and returns the name of the vehicle and its seating capacity."
   ]
  },
  {
   "cell_type": "markdown",
   "id": "7e5a102d-84ec-449a-b80d-bdfdacafaee6",
   "metadata": {},
   "source": [
    "#### ANSWER"
   ]
  },
  {
   "cell_type": "code",
   "execution_count": 4,
   "id": "74a20b57-1a8d-4ad4-8485-279478834593",
   "metadata": {},
   "outputs": [],
   "source": [
    "class Car(Vehicle):\n",
    "    def seating_capacity(self, capacity):\n",
    "        return f\"{self.name_of_vehicle} has a seating capacity of {capacity} passengers.\"\n"
   ]
  },
  {
   "cell_type": "code",
   "execution_count": 5,
   "id": "49bd3a19-514d-4f8f-868e-eeec97e8e4dd",
   "metadata": {},
   "outputs": [
    {
     "name": "stdout",
     "output_type": "stream",
     "text": [
      "My Car has a seating capacity of 5 passengers.\n"
     ]
    }
   ],
   "source": [
    "my_car = Car(\"My Car\", 200, 8.5)\n",
    "print(my_car.seating_capacity(5))\n"
   ]
  },
  {
   "cell_type": "markdown",
   "id": "6e535b74-4214-449c-bad9-985c151892fa",
   "metadata": {},
   "source": [
    "### Q.3> What is multiple inheritance? Write a python code to demonstrate multiple inheritance."
   ]
  },
  {
   "cell_type": "markdown",
   "id": "8847b9d3-f2ac-407f-a021-22946b7d75f6",
   "metadata": {},
   "source": [
    "#### ANSWER"
   ]
  },
  {
   "cell_type": "markdown",
   "id": "f9b85388-095a-45a3-93be-e1b56172b065",
   "metadata": {},
   "source": [
    "##### Multiple inheritance is a feature of object-oriented programming where a class can inherit from multiple parent classes. This allows a child class to inherit attributes and methods from multiple parents, which can be useful in certain situations."
   ]
  },
  {
   "cell_type": "code",
   "execution_count": 8,
   "id": "aa6a8960-8923-46ad-8d94-c17c2859849e",
   "metadata": {},
   "outputs": [
    {
     "name": "stdout",
     "output_type": "stream",
     "text": [
      "2022 Toyota Prius with This car can go 600 miles on a single charge.\n"
     ]
    }
   ],
   "source": [
    "class Car:\n",
    "    def __init__(self, make, model, year):\n",
    "        self.make = make\n",
    "        self.model = model\n",
    "        self.year = year\n",
    "\n",
    "    def get_info(self):\n",
    "        return f\"{self.year} {self.make} {self.model}\"\n",
    "\n",
    "class Electric:\n",
    "    def __init__(self, range):\n",
    "        self.range = range\n",
    "\n",
    "    def get_range(self):\n",
    "        return f\"This car can go {self.range} miles on a single charge.\"\n",
    "\n",
    "class HybridCar(Car, Electric):\n",
    "    def __init__(self, make, model, year, range):\n",
    "        Car.__init__(self, make, model, year)\n",
    "        Electric.__init__(self, range)\n",
    "\n",
    "    def get_info(self):\n",
    "        return f\"{Car.get_info(self)} with {Electric.get_range(self)}\"\n",
    "\n",
    "my_car = HybridCar(\"Toyota\", \"Prius\", 2022, 600)\n",
    "print(my_car.get_info())\n"
   ]
  },
  {
   "cell_type": "markdown",
   "id": "40e51945-98c7-41f4-86d2-36b2e82acae7",
   "metadata": {},
   "source": [
    "### Q.4> What are getter and setter in python? Create a class and create a getter and a setter method in this class."
   ]
  },
  {
   "cell_type": "markdown",
   "id": "73149a44-7a91-4676-8736-6270c5dd0a6a",
   "metadata": {},
   "source": [
    "### ANSWER"
   ]
  },
  {
   "cell_type": "markdown",
   "id": "06b6beb5-8d5a-4b08-a60e-bd2d0e332717",
   "metadata": {},
   "source": [
    "##### Getter and setter are methods used to access and modify the values of class attributes in object-oriented programming. They are also known as accessor and mutator methods.\n",
    "\n",
    "##### A getter method is used to access the value of an attribute, while a setter method is used to modify the value of an attribute. The main advantage of using getters and setters is that it allows you to control the way the attributes are accessed and modified, which can help you prevent errors and make your code more robust."
   ]
  },
  {
   "cell_type": "code",
   "execution_count": 9,
   "id": "d17908f9-8ecd-4c5a-864a-60f61214611e",
   "metadata": {},
   "outputs": [],
   "source": [
    "class Person:\n",
    "    def __init__(self, name, age):\n",
    "        self._name = name\n",
    "        self._age = age\n",
    "\n",
    "    def get_name(self):\n",
    "        return self._name\n",
    "\n",
    "    def set_name(self, name):\n",
    "        self._name = name\n",
    "\n",
    "    def get_age(self):\n",
    "        return self._age\n",
    "\n",
    "    def set_age(self, age):\n",
    "        if age < 0:\n",
    "            raise ValueError(\"Age must be a positive integer\")\n",
    "        self._age = age\n"
   ]
  },
  {
   "cell_type": "markdown",
   "id": "afaa64f8-9994-4acd-a400-8e6a5d3a0473",
   "metadata": {},
   "source": [
    "### Q.5> What is method overriding in python? Write a python code to demonstrate method overriding."
   ]
  },
  {
   "cell_type": "markdown",
   "id": "b0fcd235-0a03-494b-9e2b-ba79236a68ce",
   "metadata": {},
   "source": [
    "#### ANSWER"
   ]
  },
  {
   "cell_type": "markdown",
   "id": "538442f7-641a-4c4f-bb07-0f7bd5c614d2",
   "metadata": {},
   "source": [
    "##### Method overriding is a concept in object-oriented programming where a subclass provides a different implementation of a method that is already defined in its superclass. The method in the subclass must have the same name, parameters, and return type as the method in the superclass."
   ]
  },
  {
   "cell_type": "code",
   "execution_count": null,
   "id": "233e08ec-fc21-4ca6-b9ba-66463219ebca",
   "metadata": {},
   "outputs": [],
   "source": []
  }
 ],
 "metadata": {
  "kernelspec": {
   "display_name": "Python 3 (ipykernel)",
   "language": "python",
   "name": "python3"
  },
  "language_info": {
   "codemirror_mode": {
    "name": "ipython",
    "version": 3
   },
   "file_extension": ".py",
   "mimetype": "text/x-python",
   "name": "python",
   "nbconvert_exporter": "python",
   "pygments_lexer": "ipython3",
   "version": "3.10.8"
  }
 },
 "nbformat": 4,
 "nbformat_minor": 5
}
